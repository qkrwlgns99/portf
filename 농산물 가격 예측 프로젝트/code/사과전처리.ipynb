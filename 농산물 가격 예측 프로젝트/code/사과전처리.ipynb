{
 "cells": [
  {
   "cell_type": "code",
   "execution_count": 2,
   "id": "initial_id",
   "metadata": {
    "collapsed": true,
    "ExecuteTime": {
     "end_time": "2024-03-29T19:19:27.830517Z",
     "start_time": "2024-03-29T19:19:27.486829Z"
    }
   },
   "outputs": [],
   "source": [
    "import pandas as pd"
   ]
  },
  {
   "cell_type": "code",
   "outputs": [
    {
     "ename": "NameError",
     "evalue": "name 'pd' is not defined",
     "output_type": "error",
     "traceback": [
      "\u001B[0;31m---------------------------------------------------------------------------\u001B[0m",
      "\u001B[0;31mNameError\u001B[0m                                 Traceback (most recent call last)",
      "Cell \u001B[0;32mIn[1], line 7\u001B[0m\n\u001B[1;32m      5\u001B[0m year \u001B[38;5;241m=\u001B[39m [\u001B[38;5;241m2014\u001B[39m, \u001B[38;5;241m2015\u001B[39m, \u001B[38;5;241m2016\u001B[39m, \u001B[38;5;241m2017\u001B[39m, \u001B[38;5;241m2018\u001B[39m, \u001B[38;5;241m2019\u001B[39m, \u001B[38;5;241m2020\u001B[39m, \u001B[38;5;241m2021\u001B[39m, \u001B[38;5;241m2022\u001B[39m, \u001B[38;5;241m2023\u001B[39m, \u001B[38;5;241m2024\u001B[39m]\n\u001B[1;32m      6\u001B[0m \u001B[38;5;28;01mfor\u001B[39;00m i \u001B[38;5;129;01min\u001B[39;00m year:\n\u001B[0;32m----> 7\u001B[0m     df \u001B[38;5;241m=\u001B[39m pd\u001B[38;5;241m.\u001B[39mread_csv(root \u001B[38;5;241m+\u001B[39m \u001B[38;5;124m\"\u001B[39m\u001B[38;5;124m사과_\u001B[39m\u001B[38;5;132;01m%d\u001B[39;00m\u001B[38;5;124m.csv\u001B[39m\u001B[38;5;124m\"\u001B[39m \u001B[38;5;241m%\u001B[39m i , encoding \u001B[38;5;241m=\u001B[39m \u001B[38;5;124m'\u001B[39m\u001B[38;5;124mutf-8\u001B[39m\u001B[38;5;124m'\u001B[39m)\n\u001B[1;32m      8\u001B[0m     dfssp\u001B[38;5;241m.\u001B[39mappend(df)\n",
      "\u001B[0;31mNameError\u001B[0m: name 'pd' is not defined"
     ]
    }
   ],
   "source": [
    "# 리스트로 데이터 프레임 한번에 불러오기\n",
    "# 양파\n",
    "root = \"/Users/kangtaeyoung/Desktop/python/연어초밥/data/\"\n",
    "dfsa = []\n",
    "year = [2014, 2015, 2016, 2017, 2018, 2019, 2020, 2021, 2022, 2023, 2024]\n",
    "for i in year:\n",
    "    df = pd.read_csv(root + \"사과_%d.csv\" % i , encoding = 'utf-8')\n",
    "    dfsa.append(df)\n",
    "    "
   ],
   "metadata": {
    "collapsed": false,
    "ExecuteTime": {
     "end_time": "2024-03-29T19:21:27.188986Z",
     "start_time": "2024-03-29T19:21:27.021472Z"
    }
   },
   "id": "816f8d0803893cf4",
   "execution_count": 1
  },
  {
   "cell_type": "code",
   "outputs": [],
   "source": [
    "for i in range(11): # 데이터프레임 한번에 전처리\n",
    "    dfsa[i] = dfsa[i].replace('-', 0)\n",
    "    dfsa[i] = dfsa[i].fillna(method = 'ffill')\n",
    "    dfsa[i] = dfsa[i].transpose()\n",
    "    dfsa[i] = dfsa[i].fillna(method = 'ffill')"
   ],
   "metadata": {
    "collapsed": false,
    "ExecuteTime": {
     "end_time": "2024-03-29T19:21:27.189831Z",
     "start_time": "2024-03-29T19:21:27.189775Z"
    }
   },
   "id": "c67de6a843e283d9",
   "execution_count": null
  },
  {
   "cell_type": "code",
   "outputs": [],
   "source": [
    "# 2014 : dfs[0] ~ 2024 : dfs[10]\n",
    "apple2014 = dfsa[0]\n",
    "apple2015 = dfsa[1]\n",
    "apple2016 = dfsa[2]\n",
    "apple2017 = dfsa[3]\n",
    "apple2018 = dfsa[4]\n",
    "apple2019 = dfsa[5]\n",
    "apple2020 = dfsa[6]\n",
    "apple2021 = dfsa[7]\n",
    "apple2022 = dfsa[8]\n",
    "apple2023 = dfsa[9]\n",
    "apple2024 = dfsa[10]"
   ],
   "metadata": {
    "collapsed": false,
    "ExecuteTime": {
     "end_time": "2024-03-29T19:21:27.190465Z",
     "start_time": "2024-03-29T19:21:27.190413Z"
    }
   },
   "id": "c3fae2534198c521",
   "execution_count": null
  },
  {
   "cell_type": "code",
   "outputs": [],
   "source": [],
   "metadata": {
    "collapsed": false
   },
   "id": "73db92a0503182a0",
   "execution_count": null
  },
  {
   "cell_type": "code",
   "outputs": [],
   "source": [],
   "metadata": {
    "collapsed": false
   },
   "id": "c7bae9c3255d67bf"
  }
 ],
 "metadata": {
  "kernelspec": {
   "display_name": "Python 3",
   "language": "python",
   "name": "python3"
  },
  "language_info": {
   "codemirror_mode": {
    "name": "ipython",
    "version": 2
   },
   "file_extension": ".py",
   "mimetype": "text/x-python",
   "name": "python",
   "nbconvert_exporter": "python",
   "pygments_lexer": "ipython2",
   "version": "2.7.6"
  }
 },
 "nbformat": 4,
 "nbformat_minor": 5
}
