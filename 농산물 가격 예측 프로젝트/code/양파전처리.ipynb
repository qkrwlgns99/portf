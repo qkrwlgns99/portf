{
 "cells": [
  {
   "cell_type": "code",
   "execution_count": 2,
   "id": "initial_id",
   "metadata": {
    "collapsed": true,
    "ExecuteTime": {
     "end_time": "2024-03-29T19:19:27.830517Z",
     "start_time": "2024-03-29T19:19:27.486829Z"
    }
   },
   "outputs": [],
   "source": [
    "import pandas as pd"
   ]
  },
  {
   "cell_type": "code",
   "outputs": [],
   "source": [
    "# 리스트로 데이터 프레임 한번에 불러오기\n",
    "# 양파\n",
    "root = \"/Users/kangtaeyoung/Desktop/python/연어초밥/data/\"\n",
    "dfso = []\n",
    "year = [2014, 2015, 2016, 2017, 2018, 2019, 2020, 2021, 2022, 2023, 2024]\n",
    "for i in year:\n",
    "    df = pd.read_csv(root + \"양파_%d.csv\" % i , encoding = 'utf-8')\n",
    "    dfso.append(df)\n",
    "    "
   ],
   "metadata": {
    "collapsed": false,
    "ExecuteTime": {
     "end_time": "2024-03-29T19:19:27.883564Z",
     "start_time": "2024-03-29T19:19:27.831321Z"
    }
   },
   "id": "816f8d0803893cf4",
   "execution_count": 3
  },
  {
   "cell_type": "code",
   "outputs": [],
   "source": [
    "for i in range(11): # 데이터프레임 한번에 전처리\n",
    "    dfso[i] = dfso[i].replace('-', 0)\n",
    "    dfso[i] = dfso[i].fillna(method = 'ffill')\n",
    "    dfso[i] = dfso[i].transpose()\n",
    "    dfso[i] = dfso[i].fillna(method = 'ffill')"
   ],
   "metadata": {
    "collapsed": false,
    "ExecuteTime": {
     "end_time": "2024-03-29T19:19:28.757475Z",
     "start_time": "2024-03-29T19:19:28.668128Z"
    }
   },
   "id": "c67de6a843e283d9",
   "execution_count": 4
  },
  {
   "cell_type": "code",
   "outputs": [],
   "source": [
    "# 2014 : dfs[0] ~ 2024 : dfs[10]\n",
    "onion2014 = dfso[0]\n",
    "onion2015 = dfso[1]\n",
    "onion2016 = dfso[2]\n",
    "onion2017 = dfso[3]\n",
    "onion2018 = dfso[4]\n",
    "onion2019 = dfso[5]\n",
    "onion2020 = dfso[6]\n",
    "onion2021 = dfso[7]\n",
    "onion2022 = dfso[8]\n",
    "onion2023 = dfso[9]\n",
    "onion2024 = dfso[10]"
   ],
   "metadata": {
    "collapsed": false,
    "ExecuteTime": {
     "end_time": "2024-03-29T19:19:30.568102Z",
     "start_time": "2024-03-29T19:19:30.564639Z"
    }
   },
   "id": "c3fae2534198c521",
   "execution_count": 5
  },
  {
   "cell_type": "code",
   "outputs": [
    {
     "data": {
      "text/plain": "               0      1      2      3      4      5      6      7      8   \\\n구분             평균     평년     서울     서울     부산     대구     인천     광주     대전   \nUnnamed: 1     평균     평년     경동    복조리     부전     칠성     현대     양동     역전   \n01월 02일     5,150  5,106  6,000  6,330  4,950  5,000  5,000  5,160  5,000   \n01월 03일     5,150  5,107  6,000  6,330  4,950  5,000  5,000  5,160  5,000   \n01월 04일     5,150  5,107  6,000  6,330  4,950  5,000  5,000  5,160  5,000   \n...           ...    ...    ...    ...    ...    ...    ...    ...    ...   \n03월 25일     5,344  5,241  5,330  6,080  5,370  5,660  5,660  5,330  5,000   \n03월 26일     5,344  5,248  5,330  6,080  5,370  5,660  5,660  5,330  5,000   \n03월 27일     5,344  5,257  5,330  6,080  5,370  5,660  5,660  5,330  5,000   \n03월 28일     5,324  5,263  5,330  6,080  5,370  5,330  5,660  5,330  5,000   \n03월 29일     5,324  5,263  5,330  6,080  5,370  5,330  5,660  5,330  5,000   \n\n               9      10     11     12     13     14     15     16     17  \n구분             울산     수원     춘천     청주     전주     순천     포항     창원     제주  \nUnnamed: 1     신정     지동     중앙    육거리     남부     역전     죽도     상남     동문  \n01월 02일     5,400  5,330  5,000  5,000  5,000  5,000  4,330  4,900  5,000  \n01월 03일     5,400  5,330  5,000  5,000  5,000  5,000  4,330  4,900  5,000  \n01월 04일     5,400  5,330  5,000  5,000  5,000  5,000  4,330  4,900  5,000  \n...           ...    ...    ...    ...    ...    ...    ...    ...    ...  \n03월 25일     5,430  5,330  5,000  5,330  5,330  5,330  5,000  5,000  5,330  \n03월 26일     5,430  5,330  5,000  5,330  5,330  5,330  5,000  5,000  5,330  \n03월 27일     5,430  5,330  5,000  5,330  5,330  5,330  5,000  5,000  5,330  \n03월 28일     5,430  5,330  5,000  5,330  5,330  5,330  5,000  5,000  5,330  \n03월 29일     5,430  5,330  5,000  5,330  5,330  5,330  5,000  5,000  5,330  \n\n[63 rows x 18 columns]",
      "text/html": "<div>\n<style scoped>\n    .dataframe tbody tr th:only-of-type {\n        vertical-align: middle;\n    }\n\n    .dataframe tbody tr th {\n        vertical-align: top;\n    }\n\n    .dataframe thead th {\n        text-align: right;\n    }\n</style>\n<table border=\"1\" class=\"dataframe\">\n  <thead>\n    <tr style=\"text-align: right;\">\n      <th></th>\n      <th>0</th>\n      <th>1</th>\n      <th>2</th>\n      <th>3</th>\n      <th>4</th>\n      <th>5</th>\n      <th>6</th>\n      <th>7</th>\n      <th>8</th>\n      <th>9</th>\n      <th>10</th>\n      <th>11</th>\n      <th>12</th>\n      <th>13</th>\n      <th>14</th>\n      <th>15</th>\n      <th>16</th>\n      <th>17</th>\n    </tr>\n  </thead>\n  <tbody>\n    <tr>\n      <th>구분</th>\n      <td>평균</td>\n      <td>평년</td>\n      <td>서울</td>\n      <td>서울</td>\n      <td>부산</td>\n      <td>대구</td>\n      <td>인천</td>\n      <td>광주</td>\n      <td>대전</td>\n      <td>울산</td>\n      <td>수원</td>\n      <td>춘천</td>\n      <td>청주</td>\n      <td>전주</td>\n      <td>순천</td>\n      <td>포항</td>\n      <td>창원</td>\n      <td>제주</td>\n    </tr>\n    <tr>\n      <th>Unnamed: 1</th>\n      <td>평균</td>\n      <td>평년</td>\n      <td>경동</td>\n      <td>복조리</td>\n      <td>부전</td>\n      <td>칠성</td>\n      <td>현대</td>\n      <td>양동</td>\n      <td>역전</td>\n      <td>신정</td>\n      <td>지동</td>\n      <td>중앙</td>\n      <td>육거리</td>\n      <td>남부</td>\n      <td>역전</td>\n      <td>죽도</td>\n      <td>상남</td>\n      <td>동문</td>\n    </tr>\n    <tr>\n      <th>01월 02일</th>\n      <td>5,150</td>\n      <td>5,106</td>\n      <td>6,000</td>\n      <td>6,330</td>\n      <td>4,950</td>\n      <td>5,000</td>\n      <td>5,000</td>\n      <td>5,160</td>\n      <td>5,000</td>\n      <td>5,400</td>\n      <td>5,330</td>\n      <td>5,000</td>\n      <td>5,000</td>\n      <td>5,000</td>\n      <td>5,000</td>\n      <td>4,330</td>\n      <td>4,900</td>\n      <td>5,000</td>\n    </tr>\n    <tr>\n      <th>01월 03일</th>\n      <td>5,150</td>\n      <td>5,107</td>\n      <td>6,000</td>\n      <td>6,330</td>\n      <td>4,950</td>\n      <td>5,000</td>\n      <td>5,000</td>\n      <td>5,160</td>\n      <td>5,000</td>\n      <td>5,400</td>\n      <td>5,330</td>\n      <td>5,000</td>\n      <td>5,000</td>\n      <td>5,000</td>\n      <td>5,000</td>\n      <td>4,330</td>\n      <td>4,900</td>\n      <td>5,000</td>\n    </tr>\n    <tr>\n      <th>01월 04일</th>\n      <td>5,150</td>\n      <td>5,107</td>\n      <td>6,000</td>\n      <td>6,330</td>\n      <td>4,950</td>\n      <td>5,000</td>\n      <td>5,000</td>\n      <td>5,160</td>\n      <td>5,000</td>\n      <td>5,400</td>\n      <td>5,330</td>\n      <td>5,000</td>\n      <td>5,000</td>\n      <td>5,000</td>\n      <td>5,000</td>\n      <td>4,330</td>\n      <td>4,900</td>\n      <td>5,000</td>\n    </tr>\n    <tr>\n      <th>...</th>\n      <td>...</td>\n      <td>...</td>\n      <td>...</td>\n      <td>...</td>\n      <td>...</td>\n      <td>...</td>\n      <td>...</td>\n      <td>...</td>\n      <td>...</td>\n      <td>...</td>\n      <td>...</td>\n      <td>...</td>\n      <td>...</td>\n      <td>...</td>\n      <td>...</td>\n      <td>...</td>\n      <td>...</td>\n      <td>...</td>\n    </tr>\n    <tr>\n      <th>03월 25일</th>\n      <td>5,344</td>\n      <td>5,241</td>\n      <td>5,330</td>\n      <td>6,080</td>\n      <td>5,370</td>\n      <td>5,660</td>\n      <td>5,660</td>\n      <td>5,330</td>\n      <td>5,000</td>\n      <td>5,430</td>\n      <td>5,330</td>\n      <td>5,000</td>\n      <td>5,330</td>\n      <td>5,330</td>\n      <td>5,330</td>\n      <td>5,000</td>\n      <td>5,000</td>\n      <td>5,330</td>\n    </tr>\n    <tr>\n      <th>03월 26일</th>\n      <td>5,344</td>\n      <td>5,248</td>\n      <td>5,330</td>\n      <td>6,080</td>\n      <td>5,370</td>\n      <td>5,660</td>\n      <td>5,660</td>\n      <td>5,330</td>\n      <td>5,000</td>\n      <td>5,430</td>\n      <td>5,330</td>\n      <td>5,000</td>\n      <td>5,330</td>\n      <td>5,330</td>\n      <td>5,330</td>\n      <td>5,000</td>\n      <td>5,000</td>\n      <td>5,330</td>\n    </tr>\n    <tr>\n      <th>03월 27일</th>\n      <td>5,344</td>\n      <td>5,257</td>\n      <td>5,330</td>\n      <td>6,080</td>\n      <td>5,370</td>\n      <td>5,660</td>\n      <td>5,660</td>\n      <td>5,330</td>\n      <td>5,000</td>\n      <td>5,430</td>\n      <td>5,330</td>\n      <td>5,000</td>\n      <td>5,330</td>\n      <td>5,330</td>\n      <td>5,330</td>\n      <td>5,000</td>\n      <td>5,000</td>\n      <td>5,330</td>\n    </tr>\n    <tr>\n      <th>03월 28일</th>\n      <td>5,324</td>\n      <td>5,263</td>\n      <td>5,330</td>\n      <td>6,080</td>\n      <td>5,370</td>\n      <td>5,330</td>\n      <td>5,660</td>\n      <td>5,330</td>\n      <td>5,000</td>\n      <td>5,430</td>\n      <td>5,330</td>\n      <td>5,000</td>\n      <td>5,330</td>\n      <td>5,330</td>\n      <td>5,330</td>\n      <td>5,000</td>\n      <td>5,000</td>\n      <td>5,330</td>\n    </tr>\n    <tr>\n      <th>03월 29일</th>\n      <td>5,324</td>\n      <td>5,263</td>\n      <td>5,330</td>\n      <td>6,080</td>\n      <td>5,370</td>\n      <td>5,330</td>\n      <td>5,660</td>\n      <td>5,330</td>\n      <td>5,000</td>\n      <td>5,430</td>\n      <td>5,330</td>\n      <td>5,000</td>\n      <td>5,330</td>\n      <td>5,330</td>\n      <td>5,330</td>\n      <td>5,000</td>\n      <td>5,000</td>\n      <td>5,330</td>\n    </tr>\n  </tbody>\n</table>\n<p>63 rows × 18 columns</p>\n</div>"
     },
     "execution_count": 89,
     "metadata": {},
     "output_type": "execute_result"
    }
   ],
   "source": [],
   "metadata": {
    "collapsed": false,
    "ExecuteTime": {
     "end_time": "2024-03-29T19:01:41.524380Z",
     "start_time": "2024-03-29T19:01:41.516023Z"
    }
   },
   "id": "73db92a0503182a0",
   "execution_count": 89
  },
  {
   "cell_type": "code",
   "outputs": [],
   "source": [],
   "metadata": {
    "collapsed": false
   },
   "id": "c7bae9c3255d67bf"
  }
 ],
 "metadata": {
  "kernelspec": {
   "display_name": "Python 3",
   "language": "python",
   "name": "python3"
  },
  "language_info": {
   "codemirror_mode": {
    "name": "ipython",
    "version": 2
   },
   "file_extension": ".py",
   "mimetype": "text/x-python",
   "name": "python",
   "nbconvert_exporter": "python",
   "pygments_lexer": "ipython2",
   "version": "2.7.6"
  }
 },
 "nbformat": 4,
 "nbformat_minor": 5
}
