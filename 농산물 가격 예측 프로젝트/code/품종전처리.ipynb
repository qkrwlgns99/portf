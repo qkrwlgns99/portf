{
 "cells": [
  {
   "cell_type": "code",
   "outputs": [],
   "source": [
    "import pandas as pd\n",
    "\n",
    "# 리스트로 데이터 프레임 한번에 불러오기\n",
    "# 고구마\n",
    "root = \"/Users/kangtaeyoung/Desktop/python/연어초밥/data/\"\n",
    "dfssp = []\n",
    "year = [2014, 2015, 2016, 2017, 2018, 2019, 2020, 2021, 2022, 2023, 2024]\n",
    "for i in year:\n",
    "    df = pd.read_csv(root + \"고구마_%d.csv\" % i, encoding='utf-8')\n",
    "    dfssp.append(df)\n",
    "\n",
    "for i in range(11):  # 데이터프레임 한번에 전처리\n",
    "    dfssp[i] = dfssp[i].replace('-', 0)\n",
    "    dfssp[i] = dfssp[i].fillna(method='ffill')\n",
    "    dfssp[i] = dfssp[i].transpose()\n",
    "    dfssp[i] = dfssp[i].fillna(method='ffill')\n",
    "    new_header = dfssp[i].iloc[0]\n",
    "    dfssp[i].columns = new_header\n",
    "    dfssp[i] = dfssp[i][2:]\n",
    "    dfssp[i] = dfssp[i].replace(',','')\n",
    " #   dfssp[i].reset_index(drop=True, inplace=True)"
   ],
   "metadata": {
    "collapsed": false,
    "ExecuteTime": {
     "end_time": "2024-04-03T09:16:49.813093Z",
     "start_time": "2024-04-03T09:16:49.672043Z"
    }
   },
   "id": "f0758cb80270130a",
   "execution_count": 21
  },
  {
   "cell_type": "code",
   "outputs": [],
   "source": [
    "# 리스트로 데이터 프레임 한번에 불러오기\n",
    "# 사과\n",
    "root = \"/Users/kangtaeyoung/Desktop/python/연어초밥/data/\"\n",
    "dfsa = []\n",
    "year = [2014, 2015, 2016, 2017, 2018, 2019, 2020, 2021, 2022, 2023, 2024]\n",
    "for i in year:\n",
    "    df = pd.read_csv(root + \"사과_%d.csv\" % i, encoding='utf-8')\n",
    "    dfsa.append(df)\n",
    "\n",
    "for i in range(11):  # 데이터프레임 한번에 전처리\n",
    "    dfsa[i] = dfsa[i].replace('-', 0)\n",
    "    dfsa[i] = dfsa[i].fillna(method='ffill')\n",
    "    dfsa[i] = dfsa[i].transpose()\n",
    "    dfsa[i] = dfsa[i].fillna(method='ffill')\n",
    "    new_header = dfsa[i].iloc[0]\n",
    "    dfsa[i].columns = new_header\n",
    "    dfsa[i] = dfsa[i][2:]\n",
    "    dfsa[i] = dfsa[i].replace(',','')"
   ],
   "metadata": {
    "collapsed": false,
    "ExecuteTime": {
     "end_time": "2024-04-03T09:16:49.928770Z",
     "start_time": "2024-04-03T09:16:49.814134Z"
    }
   },
   "id": "d83603b96f6dc086",
   "execution_count": 22
  },
  {
   "cell_type": "code",
   "outputs": [],
   "source": [
    "# 리스트로 데이터 프레임 한번에 불러오기\n",
    "# 양파\n",
    "root = \"/Users/kangtaeyoung/Desktop/python/연어초밥/data/\"\n",
    "dfso = []\n",
    "year = [2014, 2015, 2016, 2017, 2018, 2019, 2020, 2021, 2022, 2023, 2024]\n",
    "for i in year:\n",
    "    df = pd.read_csv(root + \"양파_%d.csv\" % i, encoding='utf-8')\n",
    "    dfso.append(df)\n",
    "\n",
    "for i in range(11):  # 데이터프레임 한번에 전처리\n",
    "    dfso[i] = dfso[i].replace('-', 0)\n",
    "    dfso[i] = dfso[i].fillna(method='ffill')\n",
    "    dfso[i] = dfso[i].transpose()\n",
    "    dfso[i] = dfso[i].fillna(method='ffill')\n",
    "    new_header = dfso[i].iloc[0]\n",
    "    dfso[i].columns = new_header\n",
    "    dfso[i] = dfso[i][2:]\n",
    "    dfso[i] = dfso[i].replace(',','')"
   ],
   "metadata": {
    "collapsed": false,
    "ExecuteTime": {
     "end_time": "2024-04-03T09:16:50.050626Z",
     "start_time": "2024-04-03T09:16:49.929376Z"
    }
   },
   "id": "c7191c036d680c2f",
   "execution_count": 23
  },
  {
   "cell_type": "code",
   "outputs": [],
   "source": [
    "# 가격 데이터프레임 결측치 제거\n",
    "for n in range(10):\n",
    "    for i in range(18):\n",
    "        dfssp[n].iloc[i] = dfssp[n].iloc[i].str.replace(',','').astype(float)\n",
    "    dfssp[n] = dfssp[n].fillna(0)\n",
    "        \n",
    "for n in range(10):\n",
    "    for i in range(18):\n",
    "        dfso[n].iloc[i] = dfso[n].iloc[i].str.replace(',','').astype(float)\n",
    "    dfso[n] = dfso[n].fillna(0)\n",
    "    \n",
    "for n in range(10):\n",
    "    for i in range(18):\n",
    "        dfsa[n].iloc[i] = dfsa[n].iloc[i].str.replace(',','').astype(float)\n",
    "    dfsa[n] = dfsa[n].fillna(0)   \n",
    "    \n",
    "onion2014 = dfso[0]\n",
    "onion2015 = dfso[1]\n",
    "onion2016 = dfso[2]\n",
    "onion2017 = dfso[3]\n",
    "onion2018 = dfso[4]\n",
    "onion2019 = dfso[5]\n",
    "onion2020 = dfso[6]\n",
    "onion2021 = dfso[7]\n",
    "onion2022 = dfso[8]\n",
    "onion2023 = dfso[9]\n",
    "onion2024 = dfso[10]\n",
    "\n",
    "apple2014 = dfsa[0]\n",
    "apple2015 = dfsa[1]\n",
    "apple2016 = dfsa[2]\n",
    "apple2017 = dfsa[3]\n",
    "apple2018 = dfsa[4]\n",
    "apple2019 = dfsa[5]\n",
    "apple2020 = dfsa[6]\n",
    "apple2021 = dfsa[7]\n",
    "apple2022 = dfsa[8]\n",
    "apple2023 = dfsa[9]\n",
    "apple2024 = dfsa[10]\n",
    "\n",
    "spotato2014 = dfssp[0]\n",
    "spotato2015 = dfssp[1]\n",
    "spotato2016 = dfssp[2]\n",
    "spotato2017 = dfssp[3]\n",
    "spotato2018 = dfssp[4]\n",
    "spotato2019 = dfssp[5]\n",
    "spotato2020 = dfssp[6]\n",
    "spotato2021 = dfssp[7]\n",
    "spotato2022 = dfssp[8]\n",
    "spotato2023 = dfssp[9]\n",
    "spotato2024 = dfssp[10]"
   ],
   "metadata": {
    "collapsed": false,
    "ExecuteTime": {
     "end_time": "2024-04-03T09:16:50.184179Z",
     "start_time": "2024-04-03T09:16:50.051787Z"
    }
   },
   "id": "a30e9f9ee1475e96",
   "execution_count": 24
  },
  {
   "cell_type": "code",
   "outputs": [],
   "source": [
    "# 물가상승률(고구마, 사과, 양파) 가져오기\n",
    "inflation = pd.read_csv(root + '물가상승률.csv')\n",
    "# 고구마\n",
    "inflation_sp = pd.DataFrame(inflation.loc[0])\n",
    "inflation_sp.drop(inflation_sp.index[:2], axis = 0, inplace = True)\n",
    "\n",
    "# 사과\n",
    "inflation_a = pd.DataFrame(inflation.loc[1])\n",
    "inflation_a.drop(inflation_a.index[:2], axis = 0, inplace = True)\n",
    "\n",
    "# 양파\n",
    "inflation_o = pd.DataFrame(inflation.loc[2])\n",
    "inflation_o.drop(inflation_o.index[:2], axis = 0, inplace = True)    "
   ],
   "metadata": {
    "collapsed": false,
    "ExecuteTime": {
     "end_time": "2024-04-03T09:16:50.189678Z",
     "start_time": "2024-04-03T09:16:50.185110Z"
    }
   },
   "id": "b3bb1a92090d23d4",
   "execution_count": 25
  },
  {
   "cell_type": "code",
   "outputs": [],
   "source": [
    "# 물가상승률\n",
    "# 고구마2021\n",
    "a = []\n",
    "for i in range(248):\n",
    "    b = 108.4\n",
    "    a.append(b)\n",
    "df_a = pd.DataFrame(a)\n",
    "spotato2021 = pd.concat([spotato2021.reset_index(), df_a], axis = 1)\n",
    "spotato2021 = spotato2021.rename(columns = {0 : 'inflation'})\n",
    "spotato2021 = spotato2021.set_index('index')\n",
    "\n",
    "# 고구마2022\n",
    "a = []\n",
    "for i in range(246):\n",
    "    b = 84.86\n",
    "    a.append(b)\n",
    "df_a = pd.DataFrame(a)\n",
    "spotato2022 = pd.concat([spotato2022.reset_index(), df_a], axis = 1)\n",
    "spotato2022 = spotato2022.rename(columns = {0 : 'inflation'})\n",
    "spotato2022 = spotato2022.set_index('index')\n",
    "\n",
    "# 고구마 2023\n",
    "a = []\n",
    "for i in range(246):\n",
    "    b = 91.76\n",
    "    a.append(b)\n",
    "df_a = pd.DataFrame(a)\n",
    "spotato2023 = pd.concat([spotato2023.reset_index(), df_a], axis = 1)\n",
    "spotato2023 = spotato2023.rename(columns = {0 : 'inflation'})\n",
    "spotato2023 = spotato2023.set_index('index')\n",
    "\n",
    "# 양파 2021\n",
    "a = []\n",
    "for i in range(248):\n",
    "    b = 118.45\n",
    "    a.append(b)\n",
    "df_a = pd.DataFrame(a)\n",
    "onion2021 = pd.concat([onion2021.reset_index(), df_a], axis = 1)\n",
    "onion2021 = onion2021.rename(columns = {0 : 'inflation'})\n",
    "onion2021 = onion2021.set_index('index')\n",
    "\n",
    "# 양파 2022\n",
    "a = []\n",
    "for i in range(246):\n",
    "    b = 102.36\n",
    "    a.append(b)\n",
    "df_a = pd.DataFrame(a)\n",
    "onion2022 = pd.concat([onion2022.reset_index(), df_a], axis = 1)\n",
    "onion2022 = onion2022.rename(columns = {0 : 'inflation'})\n",
    "onion2022 = onion2022.set_index('index')\n",
    "\n",
    "# 양파 2023\n",
    "a = []\n",
    "for i in range(246):\n",
    "    b = 127.11\n",
    "    a.append(b)\n",
    "df_a = pd.DataFrame(a)\n",
    "onion2023 = pd.concat([onion2023.reset_index(), df_a], axis = 1)\n",
    "onion2023 = onion2023.rename(columns = {0 : 'inflation'})\n",
    "onion2023 = onion2023.set_index('index')\n",
    "\n",
    "# 사과 2021\n",
    "a = []\n",
    "for i in range(248):\n",
    "    b = 103.56\n",
    "    a.append(b)\n",
    "df_a = pd.DataFrame(a)\n",
    "apple2021 = pd.concat([apple2021.reset_index(), df_a], axis = 1)\n",
    "apple2021 = apple2021.rename(columns = {0 : 'inflation'})\n",
    "apple2021 = apple2021.set_index('index')\n",
    "\n",
    "# 사과 2022\n",
    "a = []\n",
    "for i in range(246):\n",
    "    b = 94.42\n",
    "    a.append(b)\n",
    "df_a = pd.DataFrame(a)\n",
    "apple2022 = pd.concat([apple2022.reset_index(), df_a], axis = 1)\n",
    "apple2022 = apple2022.rename(columns = {0 : 'inflation'})\n",
    "apple2022 = apple2022.set_index('index')\n",
    "\n",
    "# 사과 2023\n",
    "a = []\n",
    "for i in range(246):\n",
    "    b = 109.06\n",
    "    a.append(b)\n",
    "df_a = pd.DataFrame(a)\n",
    "apple2023 = pd.concat([apple2023.reset_index(), df_a], axis = 1)\n",
    "apple2023 = apple2023.rename(columns = {0 : 'inflation'})\n",
    "apple2023 = apple2023.set_index('index')"
   ],
   "metadata": {
    "collapsed": false,
    "ExecuteTime": {
     "end_time": "2024-04-03T09:16:50.204861Z",
     "start_time": "2024-04-03T09:16:50.190253Z"
    }
   },
   "id": "f73239a77867f03d",
   "execution_count": 26
  },
  {
   "cell_type": "markdown",
   "source": [],
   "metadata": {
    "collapsed": false
   },
   "id": "34b7784f1a6422c4"
  },
  {
   "cell_type": "code",
   "outputs": [],
   "source": [
    "# 가까운 지역  추출 + 평균\n",
    "_list1 = [spotato2021, spotato2022, spotato2023]\n",
    "a1 = []\n",
    "for i in _list1:\n",
    "    i = i.loc[:,['평균', '광주', '수원', '대전', '전주', 'inflation']]\n",
    "    a1.append(i)\n",
    "    \n",
    "_list2 = [onion2021, onion2022, onion2023]    \n",
    "a2 = []\n",
    "for i in _list2:\n",
    "    i = i.loc[:, ['평균', '광주', '창원', 'inflation']]\n",
    "    a2.append(i)\n",
    "    \n",
    "_list3 = [apple2021, apple2022, apple2023]    \n",
    "a3 = []\n",
    "for i in _list3:\n",
    "    i = i.loc[:, ['평균', '수원', '대구', 'inflation']]\n",
    "    a3.append(i)\n",
    "\n"
   ],
   "metadata": {
    "collapsed": false,
    "ExecuteTime": {
     "end_time": "2024-04-03T09:16:50.209392Z",
     "start_time": "2024-04-03T09:16:50.205488Z"
    }
   },
   "id": "cc9feb2f88279de",
   "execution_count": 27
  },
  {
   "cell_type": "code",
   "outputs": [],
   "source": [
    "# 리스트로 받아왔던 합친 프레임을 개별 프레임으로 변환\n",
    "spotato2021 = a1[0]\n",
    "spotato2022 = a1[1]\n",
    "spotato2023 = a1[2]\n",
    "\n",
    "onion2021 = a2[0]\n",
    "onion2022 = a2[1]\n",
    "onion2023 = a2[2]\n",
    "\n",
    "apple2021 = a3[0]\n",
    "apple2022 = a3[1]\n",
    "apple2023 = a3[2]"
   ],
   "metadata": {
    "collapsed": false,
    "ExecuteTime": {
     "end_time": "2024-04-03T09:16:50.212363Z",
     "start_time": "2024-04-03T09:16:50.210023Z"
    }
   },
   "id": "9c264851b24bd9c4",
   "execution_count": 28
  },
  {
   "cell_type": "code",
   "outputs": [],
   "source": [
    "# 날씨 데이터 불러오기\n",
    "appleweather = pd.read_csv(root + '사과날씨.csv', encoding = 'cp949')\n",
    "onionweather = pd.read_csv(root + '양파날씨.csv', encoding = 'cp949')\n",
    "spotatoweather = pd.read_csv(root + '고구마날씨.csv', encoding = 'cp949')"
   ],
   "metadata": {
    "collapsed": false,
    "ExecuteTime": {
     "end_time": "2024-04-03T09:16:50.233942Z",
     "start_time": "2024-04-03T09:16:50.213186Z"
    }
   },
   "id": "83bc9eac8d9e02ba",
   "execution_count": 29
  },
  {
   "cell_type": "code",
   "outputs": [
    {
     "data": {
      "text/plain": "      Unnamed: 0   no    stn_Code stn_Name      date  temp  max_Temp  \\\n0            0.0  1.0  760380A001  안동시 송천동  2021.1.1  -4.0       1.9   \n1            1.0  2.0  760380A001  안동시 송천동  2021.1.2  -4.0       2.0   \n2            2.0  3.0  760380A001  안동시 송천동  2021.1.3  -3.3       2.3   \n3            3.0  4.0  760380A001  안동시 송천동  2021.1.4  -4.5       4.2   \n4            4.0  5.0  760380A001  안동시 송천동  2021.1.5  -2.8       1.8   \n...          ...  ...         ...      ...       ...   ...       ...   \n5500         NaN  NaN         NaN      NaN       NaN   NaN       NaN   \n5501         NaN  NaN         NaN      NaN       NaN   NaN       NaN   \n5502         NaN  NaN         NaN      NaN       NaN   NaN       NaN   \n5503         NaN  NaN         NaN      NaN       NaN   NaN       NaN   \n5504         NaN  NaN         NaN      NaN       NaN   NaN       NaN   \n\n      min_Temp   hum  widdir  wind  rain  sun_Time  sun_Qy  condens_Time  \\\n0        -10.7  65.2   271.9   0.7   0.0     494.0     9.1           0.0   \n1        -10.3  55.8   266.3   0.9   0.0     503.0     9.8           0.0   \n2         -9.3  41.3   267.1   1.1   0.0     446.0     8.8           0.0   \n3        -11.1  61.2   270.5   0.4   0.0     497.0     8.8           0.0   \n4         -9.0  48.2   268.4   0.9   0.0     486.0     8.4           0.0   \n...        ...   ...     ...   ...   ...       ...     ...           ...   \n5500       NaN   NaN     NaN   NaN   NaN       NaN     NaN           NaN   \n5501       NaN   NaN     NaN   NaN   NaN       NaN     NaN           NaN   \n5502       NaN   NaN     NaN   NaN   NaN       NaN     NaN           NaN   \n5503       NaN   NaN     NaN   NaN   NaN       NaN     NaN           NaN   \n5504       NaN   NaN     NaN   NaN   NaN       NaN     NaN           NaN   \n\n      gr_Temp  soil_Temp  soil_Wt  \n0        -4.4       1.35     15.9  \n1        -4.6       1.27     15.4  \n2        -4.2       1.13     14.1  \n3        -4.9       1.03     13.3  \n4        -3.4       1.08     13.8  \n...       ...        ...      ...  \n5500      NaN        NaN      NaN  \n5501      NaN        NaN      NaN  \n5502      NaN        NaN      NaN  \n5503      NaN        NaN      NaN  \n5504      NaN        NaN      NaN  \n\n[5505 rows x 18 columns]",
      "text/html": "<div>\n<style scoped>\n    .dataframe tbody tr th:only-of-type {\n        vertical-align: middle;\n    }\n\n    .dataframe tbody tr th {\n        vertical-align: top;\n    }\n\n    .dataframe thead th {\n        text-align: right;\n    }\n</style>\n<table border=\"1\" class=\"dataframe\">\n  <thead>\n    <tr style=\"text-align: right;\">\n      <th></th>\n      <th>Unnamed: 0</th>\n      <th>no</th>\n      <th>stn_Code</th>\n      <th>stn_Name</th>\n      <th>date</th>\n      <th>temp</th>\n      <th>max_Temp</th>\n      <th>min_Temp</th>\n      <th>hum</th>\n      <th>widdir</th>\n      <th>wind</th>\n      <th>rain</th>\n      <th>sun_Time</th>\n      <th>sun_Qy</th>\n      <th>condens_Time</th>\n      <th>gr_Temp</th>\n      <th>soil_Temp</th>\n      <th>soil_Wt</th>\n    </tr>\n  </thead>\n  <tbody>\n    <tr>\n      <th>0</th>\n      <td>0.0</td>\n      <td>1.0</td>\n      <td>760380A001</td>\n      <td>안동시 송천동</td>\n      <td>2021.1.1</td>\n      <td>-4.0</td>\n      <td>1.9</td>\n      <td>-10.7</td>\n      <td>65.2</td>\n      <td>271.9</td>\n      <td>0.7</td>\n      <td>0.0</td>\n      <td>494.0</td>\n      <td>9.1</td>\n      <td>0.0</td>\n      <td>-4.4</td>\n      <td>1.35</td>\n      <td>15.9</td>\n    </tr>\n    <tr>\n      <th>1</th>\n      <td>1.0</td>\n      <td>2.0</td>\n      <td>760380A001</td>\n      <td>안동시 송천동</td>\n      <td>2021.1.2</td>\n      <td>-4.0</td>\n      <td>2.0</td>\n      <td>-10.3</td>\n      <td>55.8</td>\n      <td>266.3</td>\n      <td>0.9</td>\n      <td>0.0</td>\n      <td>503.0</td>\n      <td>9.8</td>\n      <td>0.0</td>\n      <td>-4.6</td>\n      <td>1.27</td>\n      <td>15.4</td>\n    </tr>\n    <tr>\n      <th>2</th>\n      <td>2.0</td>\n      <td>3.0</td>\n      <td>760380A001</td>\n      <td>안동시 송천동</td>\n      <td>2021.1.3</td>\n      <td>-3.3</td>\n      <td>2.3</td>\n      <td>-9.3</td>\n      <td>41.3</td>\n      <td>267.1</td>\n      <td>1.1</td>\n      <td>0.0</td>\n      <td>446.0</td>\n      <td>8.8</td>\n      <td>0.0</td>\n      <td>-4.2</td>\n      <td>1.13</td>\n      <td>14.1</td>\n    </tr>\n    <tr>\n      <th>3</th>\n      <td>3.0</td>\n      <td>4.0</td>\n      <td>760380A001</td>\n      <td>안동시 송천동</td>\n      <td>2021.1.4</td>\n      <td>-4.5</td>\n      <td>4.2</td>\n      <td>-11.1</td>\n      <td>61.2</td>\n      <td>270.5</td>\n      <td>0.4</td>\n      <td>0.0</td>\n      <td>497.0</td>\n      <td>8.8</td>\n      <td>0.0</td>\n      <td>-4.9</td>\n      <td>1.03</td>\n      <td>13.3</td>\n    </tr>\n    <tr>\n      <th>4</th>\n      <td>4.0</td>\n      <td>5.0</td>\n      <td>760380A001</td>\n      <td>안동시 송천동</td>\n      <td>2021.1.5</td>\n      <td>-2.8</td>\n      <td>1.8</td>\n      <td>-9.0</td>\n      <td>48.2</td>\n      <td>268.4</td>\n      <td>0.9</td>\n      <td>0.0</td>\n      <td>486.0</td>\n      <td>8.4</td>\n      <td>0.0</td>\n      <td>-3.4</td>\n      <td>1.08</td>\n      <td>13.8</td>\n    </tr>\n    <tr>\n      <th>...</th>\n      <td>...</td>\n      <td>...</td>\n      <td>...</td>\n      <td>...</td>\n      <td>...</td>\n      <td>...</td>\n      <td>...</td>\n      <td>...</td>\n      <td>...</td>\n      <td>...</td>\n      <td>...</td>\n      <td>...</td>\n      <td>...</td>\n      <td>...</td>\n      <td>...</td>\n      <td>...</td>\n      <td>...</td>\n      <td>...</td>\n    </tr>\n    <tr>\n      <th>5500</th>\n      <td>NaN</td>\n      <td>NaN</td>\n      <td>NaN</td>\n      <td>NaN</td>\n      <td>NaN</td>\n      <td>NaN</td>\n      <td>NaN</td>\n      <td>NaN</td>\n      <td>NaN</td>\n      <td>NaN</td>\n      <td>NaN</td>\n      <td>NaN</td>\n      <td>NaN</td>\n      <td>NaN</td>\n      <td>NaN</td>\n      <td>NaN</td>\n      <td>NaN</td>\n      <td>NaN</td>\n    </tr>\n    <tr>\n      <th>5501</th>\n      <td>NaN</td>\n      <td>NaN</td>\n      <td>NaN</td>\n      <td>NaN</td>\n      <td>NaN</td>\n      <td>NaN</td>\n      <td>NaN</td>\n      <td>NaN</td>\n      <td>NaN</td>\n      <td>NaN</td>\n      <td>NaN</td>\n      <td>NaN</td>\n      <td>NaN</td>\n      <td>NaN</td>\n      <td>NaN</td>\n      <td>NaN</td>\n      <td>NaN</td>\n      <td>NaN</td>\n    </tr>\n    <tr>\n      <th>5502</th>\n      <td>NaN</td>\n      <td>NaN</td>\n      <td>NaN</td>\n      <td>NaN</td>\n      <td>NaN</td>\n      <td>NaN</td>\n      <td>NaN</td>\n      <td>NaN</td>\n      <td>NaN</td>\n      <td>NaN</td>\n      <td>NaN</td>\n      <td>NaN</td>\n      <td>NaN</td>\n      <td>NaN</td>\n      <td>NaN</td>\n      <td>NaN</td>\n      <td>NaN</td>\n      <td>NaN</td>\n    </tr>\n    <tr>\n      <th>5503</th>\n      <td>NaN</td>\n      <td>NaN</td>\n      <td>NaN</td>\n      <td>NaN</td>\n      <td>NaN</td>\n      <td>NaN</td>\n      <td>NaN</td>\n      <td>NaN</td>\n      <td>NaN</td>\n      <td>NaN</td>\n      <td>NaN</td>\n      <td>NaN</td>\n      <td>NaN</td>\n      <td>NaN</td>\n      <td>NaN</td>\n      <td>NaN</td>\n      <td>NaN</td>\n      <td>NaN</td>\n    </tr>\n    <tr>\n      <th>5504</th>\n      <td>NaN</td>\n      <td>NaN</td>\n      <td>NaN</td>\n      <td>NaN</td>\n      <td>NaN</td>\n      <td>NaN</td>\n      <td>NaN</td>\n      <td>NaN</td>\n      <td>NaN</td>\n      <td>NaN</td>\n      <td>NaN</td>\n      <td>NaN</td>\n      <td>NaN</td>\n      <td>NaN</td>\n      <td>NaN</td>\n      <td>NaN</td>\n      <td>NaN</td>\n      <td>NaN</td>\n    </tr>\n  </tbody>\n</table>\n<p>5505 rows × 18 columns</p>\n</div>"
     },
     "execution_count": 30,
     "metadata": {},
     "output_type": "execute_result"
    }
   ],
   "source": [
    "appleweather"
   ],
   "metadata": {
    "collapsed": false,
    "ExecuteTime": {
     "end_time": "2024-04-03T09:16:50.244146Z",
     "start_time": "2024-04-03T09:16:50.235825Z"
    }
   },
   "id": "575aa692273fcc8b",
   "execution_count": 30
  },
  {
   "cell_type": "code",
   "outputs": [],
   "source": [
    "# 날씨 데이터 슬라이싱(년도별)\n",
    "# 사과\n",
    "## 안동\n",
    "applewt2021_ahndong = appleweather.loc[0:364, :]\n",
    "applewt2022_ahndong = appleweather.loc[365:729, :]\n",
    "applewt2023_ahndong = appleweather.loc[730:1094, :]\n",
    "\n",
    "## 청송\n",
    "applewt2021_chungsong = appleweather.loc[1095:1459, :]\n",
    "applewt2021_chungsong = appleweather.loc[1460:1824, :]\n",
    "applewt2021_chungsong = appleweather.loc[1825:2189, :]\n",
    "\n",
    "## 영주\n",
    "applewt2021_youngju = appleweather.loc[2190:2554, :]\n",
    "applewt2022_youngju = appleweather.loc[2555:2889, :]\n",
    "applewt2023_youngju = appleweather.loc[2590:3254, :]\n",
    "\n",
    "##\n",
    "\n",
    "\n"
   ],
   "metadata": {
    "collapsed": false,
    "ExecuteTime": {
     "end_time": "2024-04-03T09:16:50.247633Z",
     "start_time": "2024-04-03T09:16:50.244912Z"
    }
   },
   "id": "b3220d3a1328028d",
   "execution_count": 31
  },
  {
   "cell_type": "code",
   "outputs": [
    {
     "data": {
      "text/plain": "      Unnamed: 0    no    stn_Code stn_Name        date  temp  max_Temp  \\\n730        730.0   1.0  760380A001  안동시 송천동    2023.1.1  -1.2       7.4   \n731        731.0   2.0  760380A001  안동시 송천동    2023.1.2  -3.4       3.7   \n732        732.0   3.0  760380A001  안동시 송천동    2023.1.3  -4.8       4.3   \n733        733.0   4.0  760380A001  안동시 송천동    2023.1.4  -3.2       5.6   \n734        734.0   5.0  760380A001  안동시 송천동    2023.1.5  -3.3       5.9   \n...          ...   ...         ...      ...         ...   ...       ...   \n1090      1090.0  27.0  760380A001  안동시 송천동  2023.12.27   0.9       9.1   \n1091      1091.0  28.0  760380A001  안동시 송천동  2023.12.28  -0.2       8.1   \n1092      1092.0  29.0  760380A001  안동시 송천동  2023.12.29  -0.6       7.4   \n1093      1093.0  30.0  760380A001  안동시 송천동  2023.12.30   0.4       4.9   \n1094      1094.0  31.0  760380A001  안동시 송천동  2023.12.31   3.4       7.4   \n\n      min_Temp   hum  widdir  wind  rain  sun_Time  sun_Qy  condens_Time  \\\n730       -8.4  60.0   265.9   0.5   0.0     437.0     8.2           0.0   \n731      -10.4  47.0   270.2   0.4   0.0     497.0     9.6           0.0   \n732      -12.5  53.5   274.2   0.3   0.0     523.0    10.0           0.0   \n733      -10.7  53.0   265.7   0.4   0.0     520.0     9.3           0.0   \n734      -10.7  69.4   266.0   0.2   0.0     436.0     8.7           0.0   \n...        ...   ...     ...   ...   ...       ...     ...           ...   \n1090      -3.8  74.6   260.7   0.1   0.0     478.0     8.6           0.0   \n1091      -5.9  76.4   276.8   0.3   0.0     321.0     6.8           0.0   \n1092      -6.2  78.6   267.4   0.3   0.0     426.0     8.5           0.0   \n1093      -4.9  83.1     NaN   0.0   0.0      76.0     3.9           0.0   \n1094      -0.7  85.6   271.8   0.4   0.5     167.0     5.3         737.0   \n\n      gr_Temp  soil_Temp  soil_Wt  \n730      -1.5       0.82     14.3  \n731      -3.3       0.79     13.9  \n732      -4.6       0.59     12.2  \n733      -3.2       0.44     11.3  \n734      -3.3       0.42     11.1  \n...       ...        ...      ...  \n1090      0.3       1.82     22.0  \n1091     -0.6       1.98     22.6  \n1092     -1.1       2.06     22.6  \n1093      0.1       2.13     22.7  \n1094      3.1       2.44     23.9  \n\n[365 rows x 18 columns]",
      "text/html": "<div>\n<style scoped>\n    .dataframe tbody tr th:only-of-type {\n        vertical-align: middle;\n    }\n\n    .dataframe tbody tr th {\n        vertical-align: top;\n    }\n\n    .dataframe thead th {\n        text-align: right;\n    }\n</style>\n<table border=\"1\" class=\"dataframe\">\n  <thead>\n    <tr style=\"text-align: right;\">\n      <th></th>\n      <th>Unnamed: 0</th>\n      <th>no</th>\n      <th>stn_Code</th>\n      <th>stn_Name</th>\n      <th>date</th>\n      <th>temp</th>\n      <th>max_Temp</th>\n      <th>min_Temp</th>\n      <th>hum</th>\n      <th>widdir</th>\n      <th>wind</th>\n      <th>rain</th>\n      <th>sun_Time</th>\n      <th>sun_Qy</th>\n      <th>condens_Time</th>\n      <th>gr_Temp</th>\n      <th>soil_Temp</th>\n      <th>soil_Wt</th>\n    </tr>\n  </thead>\n  <tbody>\n    <tr>\n      <th>730</th>\n      <td>730.0</td>\n      <td>1.0</td>\n      <td>760380A001</td>\n      <td>안동시 송천동</td>\n      <td>2023.1.1</td>\n      <td>-1.2</td>\n      <td>7.4</td>\n      <td>-8.4</td>\n      <td>60.0</td>\n      <td>265.9</td>\n      <td>0.5</td>\n      <td>0.0</td>\n      <td>437.0</td>\n      <td>8.2</td>\n      <td>0.0</td>\n      <td>-1.5</td>\n      <td>0.82</td>\n      <td>14.3</td>\n    </tr>\n    <tr>\n      <th>731</th>\n      <td>731.0</td>\n      <td>2.0</td>\n      <td>760380A001</td>\n      <td>안동시 송천동</td>\n      <td>2023.1.2</td>\n      <td>-3.4</td>\n      <td>3.7</td>\n      <td>-10.4</td>\n      <td>47.0</td>\n      <td>270.2</td>\n      <td>0.4</td>\n      <td>0.0</td>\n      <td>497.0</td>\n      <td>9.6</td>\n      <td>0.0</td>\n      <td>-3.3</td>\n      <td>0.79</td>\n      <td>13.9</td>\n    </tr>\n    <tr>\n      <th>732</th>\n      <td>732.0</td>\n      <td>3.0</td>\n      <td>760380A001</td>\n      <td>안동시 송천동</td>\n      <td>2023.1.3</td>\n      <td>-4.8</td>\n      <td>4.3</td>\n      <td>-12.5</td>\n      <td>53.5</td>\n      <td>274.2</td>\n      <td>0.3</td>\n      <td>0.0</td>\n      <td>523.0</td>\n      <td>10.0</td>\n      <td>0.0</td>\n      <td>-4.6</td>\n      <td>0.59</td>\n      <td>12.2</td>\n    </tr>\n    <tr>\n      <th>733</th>\n      <td>733.0</td>\n      <td>4.0</td>\n      <td>760380A001</td>\n      <td>안동시 송천동</td>\n      <td>2023.1.4</td>\n      <td>-3.2</td>\n      <td>5.6</td>\n      <td>-10.7</td>\n      <td>53.0</td>\n      <td>265.7</td>\n      <td>0.4</td>\n      <td>0.0</td>\n      <td>520.0</td>\n      <td>9.3</td>\n      <td>0.0</td>\n      <td>-3.2</td>\n      <td>0.44</td>\n      <td>11.3</td>\n    </tr>\n    <tr>\n      <th>734</th>\n      <td>734.0</td>\n      <td>5.0</td>\n      <td>760380A001</td>\n      <td>안동시 송천동</td>\n      <td>2023.1.5</td>\n      <td>-3.3</td>\n      <td>5.9</td>\n      <td>-10.7</td>\n      <td>69.4</td>\n      <td>266.0</td>\n      <td>0.2</td>\n      <td>0.0</td>\n      <td>436.0</td>\n      <td>8.7</td>\n      <td>0.0</td>\n      <td>-3.3</td>\n      <td>0.42</td>\n      <td>11.1</td>\n    </tr>\n    <tr>\n      <th>...</th>\n      <td>...</td>\n      <td>...</td>\n      <td>...</td>\n      <td>...</td>\n      <td>...</td>\n      <td>...</td>\n      <td>...</td>\n      <td>...</td>\n      <td>...</td>\n      <td>...</td>\n      <td>...</td>\n      <td>...</td>\n      <td>...</td>\n      <td>...</td>\n      <td>...</td>\n      <td>...</td>\n      <td>...</td>\n      <td>...</td>\n    </tr>\n    <tr>\n      <th>1090</th>\n      <td>1090.0</td>\n      <td>27.0</td>\n      <td>760380A001</td>\n      <td>안동시 송천동</td>\n      <td>2023.12.27</td>\n      <td>0.9</td>\n      <td>9.1</td>\n      <td>-3.8</td>\n      <td>74.6</td>\n      <td>260.7</td>\n      <td>0.1</td>\n      <td>0.0</td>\n      <td>478.0</td>\n      <td>8.6</td>\n      <td>0.0</td>\n      <td>0.3</td>\n      <td>1.82</td>\n      <td>22.0</td>\n    </tr>\n    <tr>\n      <th>1091</th>\n      <td>1091.0</td>\n      <td>28.0</td>\n      <td>760380A001</td>\n      <td>안동시 송천동</td>\n      <td>2023.12.28</td>\n      <td>-0.2</td>\n      <td>8.1</td>\n      <td>-5.9</td>\n      <td>76.4</td>\n      <td>276.8</td>\n      <td>0.3</td>\n      <td>0.0</td>\n      <td>321.0</td>\n      <td>6.8</td>\n      <td>0.0</td>\n      <td>-0.6</td>\n      <td>1.98</td>\n      <td>22.6</td>\n    </tr>\n    <tr>\n      <th>1092</th>\n      <td>1092.0</td>\n      <td>29.0</td>\n      <td>760380A001</td>\n      <td>안동시 송천동</td>\n      <td>2023.12.29</td>\n      <td>-0.6</td>\n      <td>7.4</td>\n      <td>-6.2</td>\n      <td>78.6</td>\n      <td>267.4</td>\n      <td>0.3</td>\n      <td>0.0</td>\n      <td>426.0</td>\n      <td>8.5</td>\n      <td>0.0</td>\n      <td>-1.1</td>\n      <td>2.06</td>\n      <td>22.6</td>\n    </tr>\n    <tr>\n      <th>1093</th>\n      <td>1093.0</td>\n      <td>30.0</td>\n      <td>760380A001</td>\n      <td>안동시 송천동</td>\n      <td>2023.12.30</td>\n      <td>0.4</td>\n      <td>4.9</td>\n      <td>-4.9</td>\n      <td>83.1</td>\n      <td>NaN</td>\n      <td>0.0</td>\n      <td>0.0</td>\n      <td>76.0</td>\n      <td>3.9</td>\n      <td>0.0</td>\n      <td>0.1</td>\n      <td>2.13</td>\n      <td>22.7</td>\n    </tr>\n    <tr>\n      <th>1094</th>\n      <td>1094.0</td>\n      <td>31.0</td>\n      <td>760380A001</td>\n      <td>안동시 송천동</td>\n      <td>2023.12.31</td>\n      <td>3.4</td>\n      <td>7.4</td>\n      <td>-0.7</td>\n      <td>85.6</td>\n      <td>271.8</td>\n      <td>0.4</td>\n      <td>0.5</td>\n      <td>167.0</td>\n      <td>5.3</td>\n      <td>737.0</td>\n      <td>3.1</td>\n      <td>2.44</td>\n      <td>23.9</td>\n    </tr>\n  </tbody>\n</table>\n<p>365 rows × 18 columns</p>\n</div>"
     },
     "execution_count": 32,
     "metadata": {},
     "output_type": "execute_result"
    }
   ],
   "source": [
    "applewt2023_ahndong"
   ],
   "metadata": {
    "collapsed": false,
    "ExecuteTime": {
     "end_time": "2024-04-03T09:16:50.256239Z",
     "start_time": "2024-04-03T09:16:50.248032Z"
    }
   },
   "id": "5504f2bb47f7fd0a",
   "execution_count": 32
  },
  {
   "cell_type": "code",
   "outputs": [],
   "source": [
    "apple2021 = apple2021.iloc[:205]"
   ],
   "metadata": {
    "collapsed": false,
    "ExecuteTime": {
     "end_time": "2024-04-03T09:16:50.259736Z",
     "start_time": "2024-04-03T09:16:50.257626Z"
    }
   },
   "id": "6de7391c07a369b9",
   "execution_count": 33
  },
  {
   "cell_type": "code",
   "outputs": [],
   "source": [
    "apple2021 = apple2021.replace('월', '-')"
   ],
   "metadata": {
    "collapsed": false,
    "ExecuteTime": {
     "end_time": "2024-04-03T09:16:50.262348Z",
     "start_time": "2024-04-03T09:16:50.260339Z"
    }
   },
   "id": "bb3a31f2cd3eed05",
   "execution_count": 34
  },
  {
   "cell_type": "code",
   "outputs": [],
   "source": [
    "apple2021 = apple2021.reset_index()"
   ],
   "metadata": {
    "collapsed": false,
    "ExecuteTime": {
     "end_time": "2024-04-03T09:16:50.264523Z",
     "start_time": "2024-04-03T09:16:50.262777Z"
    }
   },
   "id": "b5d9f4be5a26f7b3",
   "execution_count": 35
  },
  {
   "cell_type": "code",
   "outputs": [
    {
     "data": {
      "text/plain": "       index       평균       수원      대구       대구  inflation\n0    01월 04일  27347.0  25000.0       0  25000.0     103.56\n1    01월 05일  27347.0  25000.0       0  25000.0     103.56\n2    01월 06일  27447.0  25000.0       0  25000.0     103.56\n3    01월 07일  27447.0  25000.0       0  25000.0     103.56\n4    01월 08일  27447.0  25000.0       0  25000.0     103.56\n..       ...      ...      ...     ...      ...        ...\n200  12월 27일   26,153   30,300  28,500        0     103.56\n201  12월 28일   26,153   30,300  28,500        0     103.56\n202  12월 29일   26,224   30,300  28,500        0     103.56\n203  12월 30일   26,224   30,300  28,500        0     103.56\n204  12월 31일   26,324   30,300  28,500        0     103.56\n\n[205 rows x 6 columns]",
      "text/html": "<div>\n<style scoped>\n    .dataframe tbody tr th:only-of-type {\n        vertical-align: middle;\n    }\n\n    .dataframe tbody tr th {\n        vertical-align: top;\n    }\n\n    .dataframe thead th {\n        text-align: right;\n    }\n</style>\n<table border=\"1\" class=\"dataframe\">\n  <thead>\n    <tr style=\"text-align: right;\">\n      <th></th>\n      <th>index</th>\n      <th>평균</th>\n      <th>수원</th>\n      <th>대구</th>\n      <th>대구</th>\n      <th>inflation</th>\n    </tr>\n  </thead>\n  <tbody>\n    <tr>\n      <th>0</th>\n      <td>01월 04일</td>\n      <td>27347.0</td>\n      <td>25000.0</td>\n      <td>0</td>\n      <td>25000.0</td>\n      <td>103.56</td>\n    </tr>\n    <tr>\n      <th>1</th>\n      <td>01월 05일</td>\n      <td>27347.0</td>\n      <td>25000.0</td>\n      <td>0</td>\n      <td>25000.0</td>\n      <td>103.56</td>\n    </tr>\n    <tr>\n      <th>2</th>\n      <td>01월 06일</td>\n      <td>27447.0</td>\n      <td>25000.0</td>\n      <td>0</td>\n      <td>25000.0</td>\n      <td>103.56</td>\n    </tr>\n    <tr>\n      <th>3</th>\n      <td>01월 07일</td>\n      <td>27447.0</td>\n      <td>25000.0</td>\n      <td>0</td>\n      <td>25000.0</td>\n      <td>103.56</td>\n    </tr>\n    <tr>\n      <th>4</th>\n      <td>01월 08일</td>\n      <td>27447.0</td>\n      <td>25000.0</td>\n      <td>0</td>\n      <td>25000.0</td>\n      <td>103.56</td>\n    </tr>\n    <tr>\n      <th>...</th>\n      <td>...</td>\n      <td>...</td>\n      <td>...</td>\n      <td>...</td>\n      <td>...</td>\n      <td>...</td>\n    </tr>\n    <tr>\n      <th>200</th>\n      <td>12월 27일</td>\n      <td>26,153</td>\n      <td>30,300</td>\n      <td>28,500</td>\n      <td>0</td>\n      <td>103.56</td>\n    </tr>\n    <tr>\n      <th>201</th>\n      <td>12월 28일</td>\n      <td>26,153</td>\n      <td>30,300</td>\n      <td>28,500</td>\n      <td>0</td>\n      <td>103.56</td>\n    </tr>\n    <tr>\n      <th>202</th>\n      <td>12월 29일</td>\n      <td>26,224</td>\n      <td>30,300</td>\n      <td>28,500</td>\n      <td>0</td>\n      <td>103.56</td>\n    </tr>\n    <tr>\n      <th>203</th>\n      <td>12월 30일</td>\n      <td>26,224</td>\n      <td>30,300</td>\n      <td>28,500</td>\n      <td>0</td>\n      <td>103.56</td>\n    </tr>\n    <tr>\n      <th>204</th>\n      <td>12월 31일</td>\n      <td>26,324</td>\n      <td>30,300</td>\n      <td>28,500</td>\n      <td>0</td>\n      <td>103.56</td>\n    </tr>\n  </tbody>\n</table>\n<p>205 rows × 6 columns</p>\n</div>"
     },
     "execution_count": 36,
     "metadata": {},
     "output_type": "execute_result"
    }
   ],
   "source": [
    "apple2021"
   ],
   "metadata": {
    "collapsed": false,
    "ExecuteTime": {
     "end_time": "2024-04-03T09:16:50.270277Z",
     "start_time": "2024-04-03T09:16:50.265193Z"
    }
   },
   "id": "b0410eb8e92df010",
   "execution_count": 36
  },
  {
   "cell_type": "code",
   "outputs": [
    {
     "data": {
      "text/plain": "            평균       수원      대구       대구  inflation\ndate                                               \n01-04  27347.0  25000.0       0  25000.0     103.56\n01-05  27347.0  25000.0       0  25000.0     103.56\n01-06  27447.0  25000.0       0  25000.0     103.56\n01-07  27447.0  25000.0       0  25000.0     103.56\n01-08  27447.0  25000.0       0  25000.0     103.56\n...        ...      ...     ...      ...        ...\n12-27   26,153   30,300  28,500        0     103.56\n12-28   26,153   30,300  28,500        0     103.56\n12-29   26,224   30,300  28,500        0     103.56\n12-30   26,224   30,300  28,500        0     103.56\n12-31   26,324   30,300  28,500        0     103.56\n\n[205 rows x 5 columns]",
      "text/html": "<div>\n<style scoped>\n    .dataframe tbody tr th:only-of-type {\n        vertical-align: middle;\n    }\n\n    .dataframe tbody tr th {\n        vertical-align: top;\n    }\n\n    .dataframe thead th {\n        text-align: right;\n    }\n</style>\n<table border=\"1\" class=\"dataframe\">\n  <thead>\n    <tr style=\"text-align: right;\">\n      <th></th>\n      <th>평균</th>\n      <th>수원</th>\n      <th>대구</th>\n      <th>대구</th>\n      <th>inflation</th>\n    </tr>\n    <tr>\n      <th>date</th>\n      <th></th>\n      <th></th>\n      <th></th>\n      <th></th>\n      <th></th>\n    </tr>\n  </thead>\n  <tbody>\n    <tr>\n      <th>01-04</th>\n      <td>27347.0</td>\n      <td>25000.0</td>\n      <td>0</td>\n      <td>25000.0</td>\n      <td>103.56</td>\n    </tr>\n    <tr>\n      <th>01-05</th>\n      <td>27347.0</td>\n      <td>25000.0</td>\n      <td>0</td>\n      <td>25000.0</td>\n      <td>103.56</td>\n    </tr>\n    <tr>\n      <th>01-06</th>\n      <td>27447.0</td>\n      <td>25000.0</td>\n      <td>0</td>\n      <td>25000.0</td>\n      <td>103.56</td>\n    </tr>\n    <tr>\n      <th>01-07</th>\n      <td>27447.0</td>\n      <td>25000.0</td>\n      <td>0</td>\n      <td>25000.0</td>\n      <td>103.56</td>\n    </tr>\n    <tr>\n      <th>01-08</th>\n      <td>27447.0</td>\n      <td>25000.0</td>\n      <td>0</td>\n      <td>25000.0</td>\n      <td>103.56</td>\n    </tr>\n    <tr>\n      <th>...</th>\n      <td>...</td>\n      <td>...</td>\n      <td>...</td>\n      <td>...</td>\n      <td>...</td>\n    </tr>\n    <tr>\n      <th>12-27</th>\n      <td>26,153</td>\n      <td>30,300</td>\n      <td>28,500</td>\n      <td>0</td>\n      <td>103.56</td>\n    </tr>\n    <tr>\n      <th>12-28</th>\n      <td>26,153</td>\n      <td>30,300</td>\n      <td>28,500</td>\n      <td>0</td>\n      <td>103.56</td>\n    </tr>\n    <tr>\n      <th>12-29</th>\n      <td>26,224</td>\n      <td>30,300</td>\n      <td>28,500</td>\n      <td>0</td>\n      <td>103.56</td>\n    </tr>\n    <tr>\n      <th>12-30</th>\n      <td>26,224</td>\n      <td>30,300</td>\n      <td>28,500</td>\n      <td>0</td>\n      <td>103.56</td>\n    </tr>\n    <tr>\n      <th>12-31</th>\n      <td>26,324</td>\n      <td>30,300</td>\n      <td>28,500</td>\n      <td>0</td>\n      <td>103.56</td>\n    </tr>\n  </tbody>\n</table>\n<p>205 rows × 5 columns</p>\n</div>"
     },
     "execution_count": 37,
     "metadata": {},
     "output_type": "execute_result"
    }
   ],
   "source": [
    "apple2021['index'] = apple2021['index'].str.replace('월 ', '-')\n",
    "apple2021['index'] = apple2021['index'].str.replace('일', '')\n",
    "apple2021 = apple2021.rename(columns = {'index' : 'date'})\n",
    "apple2021 = apple2021.set_index('date')\n",
    "apple2021"
   ],
   "metadata": {
    "collapsed": false,
    "ExecuteTime": {
     "end_time": "2024-04-03T09:16:50.277061Z",
     "start_time": "2024-04-03T09:16:50.271317Z"
    }
   },
   "id": "bd09967aa17f7287",
   "execution_count": 37
  },
  {
   "cell_type": "code",
   "outputs": [
    {
     "ename": "NameError",
     "evalue": "name 'applewt2021' is not defined",
     "output_type": "error",
     "traceback": [
      "\u001B[0;31m---------------------------------------------------------------------------\u001B[0m",
      "\u001B[0;31mNameError\u001B[0m                                 Traceback (most recent call last)",
      "Cell \u001B[0;32mIn[38], line 1\u001B[0m\n\u001B[0;32m----> 1\u001B[0m applewt2021[\u001B[38;5;124m'\u001B[39m\u001B[38;5;124mdate\u001B[39m\u001B[38;5;124m'\u001B[39m] \u001B[38;5;241m=\u001B[39m applewt2021[\u001B[38;5;124m'\u001B[39m\u001B[38;5;124mdate\u001B[39m\u001B[38;5;124m'\u001B[39m]\u001B[38;5;241m.\u001B[39mstr\u001B[38;5;241m.\u001B[39mreplace(\u001B[38;5;124m'\u001B[39m\u001B[38;5;124m2021-\u001B[39m\u001B[38;5;124m'\u001B[39m, \u001B[38;5;124m'\u001B[39m\u001B[38;5;124m'\u001B[39m)\n",
      "\u001B[0;31mNameError\u001B[0m: name 'applewt2021' is not defined"
     ]
    }
   ],
   "source": [
    "applewt2021['date'] = applewt2021['date'].str.replace('2021-', '')"
   ],
   "metadata": {
    "collapsed": false,
    "ExecuteTime": {
     "end_time": "2024-04-03T09:16:50.285598Z",
     "start_time": "2024-04-03T09:16:50.278020Z"
    }
   },
   "id": "31ce4b1898985097",
   "execution_count": 38
  },
  {
   "cell_type": "code",
   "outputs": [],
   "source": [
    "result = pd.concat([apple2021, applewt2021], axis = 1)"
   ],
   "metadata": {
    "collapsed": false,
    "ExecuteTime": {
     "end_time": "2024-04-03T09:16:50.286283Z",
     "start_time": "2024-04-03T09:16:50.286242Z"
    }
   },
   "id": "29c885dc699af3dd",
   "execution_count": null
  },
  {
   "cell_type": "code",
   "outputs": [],
   "source": [
    "result"
   ],
   "metadata": {
    "collapsed": false
   },
   "id": "c551832032a44646",
   "execution_count": null
  },
  {
   "cell_type": "code",
   "outputs": [],
   "source": [],
   "metadata": {
    "collapsed": false
   },
   "id": "839c4af3fed73d2f",
   "execution_count": null
  },
  {
   "cell_type": "code",
   "outputs": [],
   "source": [],
   "metadata": {
    "collapsed": false
   },
   "id": "a1282d8699b5146f"
  }
 ],
 "metadata": {
  "kernelspec": {
   "display_name": "Python 3",
   "language": "python",
   "name": "python3"
  },
  "language_info": {
   "codemirror_mode": {
    "name": "ipython",
    "version": 2
   },
   "file_extension": ".py",
   "mimetype": "text/x-python",
   "name": "python",
   "nbconvert_exporter": "python",
   "pygments_lexer": "ipython2",
   "version": "2.7.6"
  }
 },
 "nbformat": 4,
 "nbformat_minor": 5
}
